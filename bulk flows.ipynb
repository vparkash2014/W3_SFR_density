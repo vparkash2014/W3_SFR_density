{
 "cells": [
  {
   "cell_type": "code",
   "execution_count": 1,
   "metadata": {},
   "outputs": [],
   "source": [
    "import numpy as np\n"
   ]
  },
  {
   "cell_type": "code",
   "execution_count": 22,
   "metadata": {},
   "outputs": [],
   "source": [
    "def vel_hel_lg(v_hel, glon, glat):\n",
    "    PI = 57.2957795\n",
    "    Lapex = 93.\n",
    "    Bapex = -4.\n",
    "    Vapex = 316.\n",
    "\n",
    "    dL = glon - Lapex\n",
    "    T1 = np.sin(glat/PI) * np.sin(Bapex/PI)\n",
    "    T2 = np.cos(glat/PI) * np.cos(Bapex/PI) * np.cos(dL/PI)\n",
    "\n",
    "    Vout = v_hel + (Vapex * (T1 + T2) )\n",
    "    return(Vout)\n",
    "\n",
    "def vel_CMB(v_hel, glon, glat):\n",
    "    PI = 57.2957795\n",
    "    Lapex = 264.14\n",
    "    Bapex = 48.26\n",
    "    Vapex = 371.0\n",
    "\n",
    "    dL = glon - Lapex\n",
    "    T1 = np.sin(glat/PI) * np.sin(Bapex/PI)\n",
    "    T2 = np.cos(glat/PI) * np.cos(Bapex/PI) * np.cos(dL/PI)\n",
    "\n",
    "    Vcmb = v_hel + (Vapex * (T1 + T2) )\n",
    "    return(Vcmb)\n",
    "\n",
    "def vel_virgo(Vlg, glon, glat):\n",
    "    PI = 57.2957795\n",
    "    Lvir = 284.\n",
    "    Bvir = 74.\n",
    "    Vvir = 208. \n",
    "    \n",
    "    dL = Lvir - glon\n",
    "    T1 = np.sin(Bvir/PI) * np.sin(glat/PI)\n",
    "    T2 = np.cos(Bvir/PI) * np.cos(glat/PI) * np.cos(dL/PI)\n",
    "    \n",
    "    Vcorr = Vlg + (Vvir* (T1 + T2) )\n",
    "    return(Vcorr)"
   ]
  },
  {
   "cell_type": "code",
   "execution_count": 24,
   "metadata": {},
   "outputs": [
    {
     "name": "stdout",
     "output_type": "stream",
     "text": [
      "testing this code one 2masx15052627+4633551\n",
      "the local group vel is 2617.2751555561736\n",
      "the CMB vel is 2571.107343890879\n",
      "the virgo-corrected vel is 2757.5702570555486\n"
     ]
    }
   ],
   "source": [
    "# 2masx15052627+4633551\n",
    "print('testing this code one 2masx15052627+4633551')\n",
    "v_hel = 2471.\n",
    "glon = 78.334315\n",
    "glat = 57.284427\n",
    "\n",
    "v_lg = vel_hel_lg(v_hel, glon, glat)\n",
    "print('the local group vel is', v_lg)\n",
    "\n",
    "v_CMB = vel_CMB(v_hel, glon, glat)\n",
    "print('the CMB vel is', v_CMB)\n",
    "\n",
    "vcorr = vel_virgo(v_lg, glon, glat)\n",
    "print('the virgo-corrected vel is', vcorr)"
   ]
  }
 ],
 "metadata": {
  "kernelspec": {
   "display_name": "Python 3",
   "language": "python",
   "name": "python3"
  },
  "language_info": {
   "codemirror_mode": {
    "name": "ipython",
    "version": 3
   },
   "file_extension": ".py",
   "mimetype": "text/x-python",
   "name": "python",
   "nbconvert_exporter": "python",
   "pygments_lexer": "ipython3",
   "version": "3.7.8"
  },
  "latex_envs": {
   "LaTeX_envs_menu_present": true,
   "autoclose": false,
   "autocomplete": true,
   "bibliofile": "biblio.bib",
   "cite_by": "apalike",
   "current_citInitial": 1,
   "eqLabelWithNumbers": true,
   "eqNumInitial": 1,
   "hotkeys": {
    "equation": "Ctrl-E",
    "itemize": "Ctrl-I"
   },
   "labels_anchors": false,
   "latex_user_defs": false,
   "report_style_numbering": false,
   "user_envs_cfg": false
  },
  "toc": {
   "base_numbering": 1,
   "nav_menu": {},
   "number_sections": true,
   "sideBar": true,
   "skip_h1_title": false,
   "title_cell": "Table of Contents",
   "title_sidebar": "Contents",
   "toc_cell": false,
   "toc_position": {},
   "toc_section_display": true,
   "toc_window_display": false
  },
  "varInspector": {
   "cols": {
    "lenName": 16,
    "lenType": 16,
    "lenVar": 40
   },
   "kernels_config": {
    "python": {
     "delete_cmd_postfix": "",
     "delete_cmd_prefix": "del ",
     "library": "var_list.py",
     "varRefreshCmd": "print(var_dic_list())"
    },
    "r": {
     "delete_cmd_postfix": ") ",
     "delete_cmd_prefix": "rm(",
     "library": "var_list.r",
     "varRefreshCmd": "cat(var_dic_list()) "
    }
   },
   "types_to_exclude": [
    "module",
    "function",
    "builtin_function_or_method",
    "instance",
    "_Feature"
   ],
   "window_display": false
  }
 },
 "nbformat": 4,
 "nbformat_minor": 2
}
